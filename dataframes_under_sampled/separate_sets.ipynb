{
 "cells": [
  {
   "cell_type": "code",
   "execution_count": 2,
   "metadata": {},
   "outputs": [],
   "source": [
    "import pandas as pd"
   ]
  },
  {
   "cell_type": "code",
   "execution_count": 3,
   "metadata": {},
   "outputs": [],
   "source": [
    "df = pd.read_csv(\"dataset_unsa.csv\")"
   ]
  },
  {
   "cell_type": "code",
   "execution_count": 4,
   "metadata": {},
   "outputs": [],
   "source": [
    "train_set = df[df.set == \"training\"]\n",
    "train_set = train_set.reset_index(drop=True)\n",
    "train_set.to_csv(\"train_set.csv\", index=False)\n",
    "test_set = df[df.set == \"testing\"]\n",
    "test_set = test_set.reset_index(drop=True)\n",
    "test_set.to_csv(\"test_set.csv\", index=False)\n",
    "validation_set = df[df.set == \"validation\"]\n",
    "validation_set = validation_set.reset_index(drop=True)\n",
    "validation_set.to_csv(\"validation_set.csv\", index=False)\n"
   ]
  }
 ],
 "metadata": {
  "kernelspec": {
   "display_name": ".VC",
   "language": "python",
   "name": "python3"
  },
  "language_info": {
   "codemirror_mode": {
    "name": "ipython",
    "version": 3
   },
   "file_extension": ".py",
   "mimetype": "text/x-python",
   "name": "python",
   "nbconvert_exporter": "python",
   "pygments_lexer": "ipython3",
   "version": "3.8.10 (default, Nov 14 2022, 12:59:47) \n[GCC 9.4.0]"
  },
  "orig_nbformat": 4,
  "vscode": {
   "interpreter": {
    "hash": "1893a012902a2fd0e7faea011b1e31115ee6e030fb62243d5d6d8b41112894e4"
   }
  }
 },
 "nbformat": 4,
 "nbformat_minor": 2
}
